{
 "cells": [
  {
   "cell_type": "markdown",
   "id": "38820eed",
   "metadata": {},
   "source": [
    "### Load the Libraries"
   ]
  },
  {
   "cell_type": "code",
   "execution_count": 274,
   "id": "9e605527",
   "metadata": {},
   "outputs": [],
   "source": [
    "from Bio import SeqIO\n",
    "import re\n",
    "# import math"
   ]
  },
  {
   "cell_type": "code",
   "execution_count": 1,
   "id": "1e2d033a",
   "metadata": {},
   "outputs": [],
   "source": [
    "# Primary libraries\n",
    "import seaborn as sns\n",
    "import numpy as np\n",
    "import pandas as pd\n",
    "import matplotlib\n",
    "import matplotlib.pyplot as plt\n",
    "%matplotlib inline"
   ]
  },
  {
   "cell_type": "code",
   "execution_count": 58,
   "id": "5b3359da",
   "metadata": {},
   "outputs": [],
   "source": [
    "# Secondary libraries\n",
    "from tqdm import tqdm\n",
    "# from scipy import stats\n",
    "import scipy\n",
    "# from glob import glob\n",
    "import os\n",
    "# from matplotlib import dates as mpl_dates\n",
    "# import datetime\n",
    "# from datetime import date\n",
    "# import matplotlib.patches as mpatches\n",
    "# from matplotlib import cm\n",
    "# from colorspacious import cspace_converter\n",
    "# from collections import OrderedDict\n",
    "# import matplotlib.ticker as ticker"
   ]
  },
  {
   "cell_type": "markdown",
   "id": "bfcd31f1",
   "metadata": {},
   "source": [
    "### Load the files"
   ]
  },
  {
   "cell_type": "markdown",
   "id": "50c4a2c4",
   "metadata": {},
   "source": [
    "We are dealing with .gb files with single records each.\n",
    "\n",
    "From (https://warwick.ac.uk/fac/sci/moac/people/students/peter_cock/python/genbank/)-\n",
    "\n",
    "    Depending on the type of GenBank file(s) you are interested in, they will either contain a single record, or multiple records. You can easily determine this by looking at the raw file - each record will start with a LOCUS line, followed by various other header lines, usually a list of features, the sequence data, and ends with a // line (slash slash)."
   ]
  },
  {
   "cell_type": "code",
   "execution_count": 4,
   "id": "8003aefe",
   "metadata": {},
   "outputs": [
    {
     "name": "stdout",
     "output_type": "stream",
     "text": [
      "Converted 1 records\n"
     ]
    }
   ],
   "source": [
    "count = SeqIO.convert(\"./genbank_files/bacillus_subtilis.gb\", \"genbank\",\n",
    "                      \"./converted_fasta_files/bacillus_subtilis.fasta\", \"fasta\")\n",
    "print(f'Converted {count} records')"
   ]
  },
  {
   "cell_type": "code",
   "execution_count": 157,
   "id": "575645ae",
   "metadata": {},
   "outputs": [
    {
     "name": "stdout",
     "output_type": "stream",
     "text": [
      "Name NC_000964, 9074 features\n"
     ]
    }
   ],
   "source": [
    "# Loading the genbank file (given it has only one record; otherwise looping over it is required)\n",
    "\n",
    "gb_record = SeqIO.read(open(\"./genbank_files/bacillus_subtilis.gb\", 'r'), \"genbank\")\n",
    "print(f'Name {gb_record.name}, {len(gb_record.features)} features')"
   ]
  },
  {
   "cell_type": "code",
   "execution_count": 10,
   "id": "aa1e42ff",
   "metadata": {},
   "outputs": [
    {
     "name": "stdout",
     "output_type": "stream",
     "text": [
      "type: gene\n",
      "location: [4183444:4183897](-)\n",
      "qualifiers:\n",
      "    Key: db_xref, Value: ['GeneID:937872']\n",
      "    Key: gene, Value: ['yybA']\n",
      "    Key: locus_tag, Value: ['BSU_40710']\n",
      "    Key: old_locus_tag, Value: ['BSU40710']\n",
      "\n"
     ]
    }
   ],
   "source": [
    "print(gb_record.features[9000])"
   ]
  },
  {
   "cell_type": "code",
   "execution_count": 23,
   "id": "64b4f897",
   "metadata": {},
   "outputs": [
    {
     "name": "stdout",
     "output_type": "stream",
     "text": [
      "-1\n",
      "1\n"
     ]
    }
   ],
   "source": [
    "print(gb_record.features[9000].strand)\n",
    "print(gb_record.features[0].strand)"
   ]
  },
  {
   "cell_type": "code",
   "execution_count": 21,
   "id": "ec22746d",
   "metadata": {},
   "outputs": [
    {
     "name": "stdout",
     "output_type": "stream",
     "text": [
      "['source', 'gene', 'CDS', 'rRNA', 'tRNA', 'misc_RNA', 'misc_feature', 'ncRNA']\n"
     ]
    }
   ],
   "source": [
    "l = []\n",
    "\n",
    "for feature in gb_record.features:\n",
    "    if feature.type not in l:\n",
    "        l.append(feature.type)\n",
    "\n",
    "print(l)"
   ]
  },
  {
   "cell_type": "code",
   "execution_count": 159,
   "id": "09efd3e2",
   "metadata": {},
   "outputs": [
    {
     "name": "stdout",
     "output_type": "stream",
     "text": [
      "4536\n"
     ]
    }
   ],
   "source": [
    "genes = []\n",
    "\n",
    "for feature in gb_record.features:\n",
    "    if feature.type == 'gene':\n",
    "        genes.append(feature)\n",
    "\n",
    "print(len(genes))"
   ]
  },
  {
   "cell_type": "code",
   "execution_count": 162,
   "id": "42fc057b",
   "metadata": {},
   "outputs": [
    {
     "name": "stdout",
     "output_type": "stream",
     "text": [
      "<class 'list'>\n",
      "['dnaN']\n",
      "dnaN\n",
      "939970\n"
     ]
    }
   ],
   "source": [
    "print(type(genes[1].qualifiers['gene']))\n",
    "print(genes[1].qualifiers['gene'])\n",
    "print(genes[1].qualifiers['gene'][0])\n",
    "print(genes[1].qualifiers['db_xref'][0][7:])"
   ]
  },
  {
   "cell_type": "markdown",
   "id": "75c44e8c",
   "metadata": {},
   "source": [
    "Locations provided by **BioPython** is optimum for python purposes.\n",
    "- start and end provided by it are 1938 and 3075 respectively (0-based indexing and it assumes that end position is not included),\n",
    "- while in our actual file it is 1939 and 3075 (1-based indexing and it assumes that both start and end positions are included).\n",
    "\n",
    "This way we can directly slice seq string using locations provided to obtain the seq for the features of our interest."
   ]
  },
  {
   "cell_type": "code",
   "execution_count": 37,
   "id": "c63b9946",
   "metadata": {},
   "outputs": [
    {
     "name": "stdout",
     "output_type": "stream",
     "text": [
      "type: gene\n",
      "location: [1938:3075](+)\n",
      "qualifiers:\n",
      "    Key: db_xref, Value: ['GeneID:939970']\n",
      "    Key: gene, Value: ['dnaN']\n",
      "    Key: locus_tag, Value: ['BSU_00020']\n",
      "    Key: old_locus_tag, Value: ['BSU00020']\n",
      "\n",
      "[1938:3075](+)\n",
      "ATGAAATTCACGATTCAAAAAGATCGTCTTGTTGAAAGTGTCCAAGATGTATTAAAAGCAGTTTCATCCAGAACCACGATTCCCATTCTGACTGGTATTAAAATTGTTGCATCAGATGATGGAGTATCCTTTACAGGGAGTGACTCAGATATTTCTATTGAATCCTTCATTCCAAAAGAAGAAGGAGATAAAGAAATCGTCACTATTGAACAGCCCGGAAGCATCGTTTTACAGGCTCGCTTTTTTAGTGAAATTGTAAAAAAATTGCCGATGGCAACTGTAGAAATTGAAGTCCAAAATCAGTATTTGACGATTATCCGTTCTGGTAAAGCTGAATTTAATCTAAACGGACTGGATGCTGATGAATATCCGCACTTGCCGCAGATTGAAGAGCATCATGCGATTCAGATCCCAACTGATTTGTTAAAAAATCTAATCAGACAAACAGTATTTGCAGTGTCCACCTCAGAAACACGCCCTATCTTGACAGGTGTAAACTGGAAAGTGGAGCAAAGTGAATTATTATGCACTGCAACGGATAGCCACCGTCTTGCATTAAGAAAGGCGAAACTTGATATTCCAGAAGACAGATCTTATAACGTCGTGATTCCGGGAAAAAGTTTAACTGAACTCAGCAAGATTTTAGATGACAACCAGGAACTTGTAGATATCGTCATCACAGAAACCCAAGTTCTGTTTAAAGCGAAAAACGTCTTGTTCTTCTCACGGCTTCTGGACGGGAATTATCCAGACACAACCAGCCTGATTCCGCAAGACAGCAAAACAGAAATCATTGTGAACACAAAAGAATTCCTTCAGGCCATTGATCGTGCATCTCTTTTAGCTAGAGAGGGACGCAACAACGTTGTAAAACTGTCCGCAAAACCGGCTGAATCCATTGAAATTTCTTCCAATTCGCCAGAAATCGGTAAAGTTGTGGAAGCAATTGTTGCGGATCAAATTGAAGGTGAGGAATTAAATATCTCTTTTAGTCCAAAATATATGCTGGATGCACTAAAGGTGCTTGAAGGAGCAGAAATACGCGTAAGCTTTACAGGCGCAATGAGACCTTTCTTAATTCGCACGCCGAATGATGAAACGATTGTACAGCTTATCCTTCCTGTCAGAACCTATTAA\n",
      "\n",
      "\n",
      "ATGAAATTCACGATTCAAAAAGATCGTCTTGTTGAAAGTGTCCAAGATGTATTAAAAGCAGTTTCATCCAGAACCACGATTCCCATTCTGACTGGTATTAAAATTGTTGCATCAGATGATGGAGTATCCTTTACAGGGAGTGACTCAGATATTTCTATTGAATCCTTCATTCCAAAAGAAGAAGGAGATAAAGAAATCGTCACTATTGAACAGCCCGGAAGCATCGTTTTACAGGCTCGCTTTTTTAGTGAAATTGTAAAAAAATTGCCGATGGCAACTGTAGAAATTGAAGTCCAAAATCAGTATTTGACGATTATCCGTTCTGGTAAAGCTGAATTTAATCTAAACGGACTGGATGCTGATGAATATCCGCACTTGCCGCAGATTGAAGAGCATCATGCGATTCAGATCCCAACTGATTTGTTAAAAAATCTAATCAGACAAACAGTATTTGCAGTGTCCACCTCAGAAACACGCCCTATCTTGACAGGTGTAAACTGGAAAGTGGAGCAAAGTGAATTATTATGCACTGCAACGGATAGCCACCGTCTTGCATTAAGAAAGGCGAAACTTGATATTCCAGAAGACAGATCTTATAACGTCGTGATTCCGGGAAAAAGTTTAACTGAACTCAGCAAGATTTTAGATGACAACCAGGAACTTGTAGATATCGTCATCACAGAAACCCAAGTTCTGTTTAAAGCGAAAAACGTCTTGTTCTTCTCACGGCTTCTGGACGGGAATTATCCAGACACAACCAGCCTGATTCCGCAAGACAGCAAAACAGAAATCATTGTGAACACAAAAGAATTCCTTCAGGCCATTGATCGTGCATCTCTTTTAGCTAGAGAGGGACGCAACAACGTTGTAAAACTGTCCGCAAAACCGGCTGAATCCATTGAAATTTCTTCCAATTCGCCAGAAATCGGTAAAGTTGTGGAAGCAATTGTTGCGGATCAAATTGAAGGTGAGGAATTAAATATCTCTTTTAGTCCAAAATATATGCTGGATGCACTAAAGGTGCTTGAAGGAGCAGAAATACGCGTAAGCTTTACAGGCGCAATGAGACCTTTCTTAATTCGCACGCCGAATGATGAAACGATTGTACAGCTTATCCTTCCTGTCAGAACCTATTAA\n",
      "\n",
      "\n",
      "TTAATAGGTTCTGACAGGAAGGATAAGCTGTACAATCGTTTCATCATTCGGCGTGCGAATTAAGAAAGGTCTCATTGCGCCTGTAAAGCTTACGCGTATTTCTGCTCCTTCAAGCACCTTTAGTGCATCCAGCATATATTTTGGACTAAAAGAGATATTTAATTCCTCACCTTCAATTTGATCCGCAACAATTGCTTCCACAACTTTACCGATTTCTGGCGAATTGGAAGAAATTTCAATGGATTCAGCCGGTTTTGCGGACAGTTTTACAACGTTGTTGCGTCCCTCTCTAGCTAAAAGAGATGCACGATCAATGGCCTGAAGGAATTCTTTTGTGTTCACAATGATTTCTGTTTTGCTGTCTTGCGGAATCAGGCTGGTTGTGTCTGGATAATTCCCGTCCAGAAGCCGTGAGAAGAACAAGACGTTTTTCGCTTTAAACAGAACTTGGGTTTCTGTGATGACGATATCTACAAGTTCCTGGTTGTCATCTAAAATCTTGCTGAGTTCAGTTAAACTTTTTCCCGGAATCACGACGTTATAAGATCTGTCTTCTGGAATATCAAGTTTCGCCTTTCTTAATGCAAGACGGTGGCTATCCGTTGCAGTGCATAATAATTCACTTTGCTCCACTTTCCAGTTTACACCTGTCAAGATAGGGCGTGTTTCTGAGGTGGACACTGCAAATACTGTTTGTCTGATTAGATTTTTTAACAAATCAGTTGGGATCTGAATCGCATGATGCTCTTCAATCTGCGGCAAGTGCGGATATTCATCAGCATCCAGTCCGTTTAGATTAAATTCAGCTTTACCAGAACGGATAATCGTCAAATACTGATTTTGGACTTCAATTTCTACAGTTGCCATCGGCAATTTTTTTACAATTTCACTAAAAAAGCGAGCCTGTAAAACGATGCTTCCGGGCTGTTCAATAGTGACGATTTCTTTATCTCCTTCTTCTTTTGGAATGAAGGATTCAATAGAAATATCTGAGTCACTCCCTGTAAAGGATACTCCATCATCTGATGCAACAATTTTAATACCAGTCAGAATGGGAATCGTGGTTCTGGATGAAACTGCTTTTAATACATCTTGGACACTTTCAACAAGACGATCTTTTTGAATCGTGAATTTCAT\n"
     ]
    }
   ],
   "source": [
    "print(gb_record.features[3])\n",
    "\n",
    "print(gb_record.features[3].location)\n",
    "\n",
    "# print(gb_record.seq[gb_record.features[3].location]) # throws error\n",
    "print(gb_record.seq[gb_record.features[3].location.nofuzzy_start:\n",
    "                    gb_record.features[3].location.nofuzzy_end])\n",
    "\n",
    "print('\\n')\n",
    "print(gb_record.seq[1938:3075])\n",
    "print('\\n')\n",
    "\n",
    "# To obtain the DNA sequence corresponding to the complement, use .reverse_complement()\n",
    "print(gb_record.seq[1938:3075].reverse_complement())"
   ]
  },
  {
   "cell_type": "code",
   "execution_count": 39,
   "id": "6d76a536",
   "metadata": {},
   "outputs": [
    {
     "name": "stdout",
     "output_type": "stream",
     "text": [
      "-1\n",
      "1\n",
      "<class 'int'>\n",
      "<class 'int'>\n"
     ]
    }
   ],
   "source": [
    "print(gb_record.features[9000].strand)\n",
    "print(gb_record.features[0].strand)\n",
    "print(type(gb_record.features[9000].strand))\n",
    "print(type(gb_record.features[0].strand))"
   ]
  },
  {
   "cell_type": "markdown",
   "id": "e2c38a95",
   "metadata": {},
   "source": [
    "1. **The DDBJ/ENA/GenBank Feature Table Definition**: \n",
    "    Documentation of features in genbank files. Very good document, must go-through this once.\n",
    "    \n",
    "    Source:\n",
    "    - (https://www.insdc.org/documents/feature_table.html)\n",
    "\n",
    "\n",
    "\n",
    "2. **Locus tag:**\n",
    "    Locus_tags are identifiers that are systematically applied to every gene in a genome.\n",
    "    These tags have become surrogate gene names by the biological community. If two\n",
    "    submitters of two different genomes use the same systematic names to describe two very\n",
    "    different genes in two very different genomes, it can be very confusing. In order to\n",
    "    prevent this from happening INSD has created a registry of locus_tag prefixes.\n",
    "    Submitters of eukaryotic and prokaryotic genomes should register their prefix prior to\n",
    "    submitting their genome. All components of a project (such as multiple chromosomes or\n",
    "    plasmids, etc) should use the same locus_tag prefix. \n",
    "    \n",
    "    Source:\n",
    "    - (https://www.ncbi.nlm.nih.gov/genomes/locustag/Proposal.pdf)\n",
    "    - (https://www.ncbi.nlm.nih.gov/genbank/genomesubmit_annotation/#locus_tag)"
   ]
  },
  {
   "cell_type": "markdown",
   "id": "73db9dcb",
   "metadata": {},
   "source": [
    "### Extracting desirable information"
   ]
  },
  {
   "cell_type": "markdown",
   "id": "5943c13c",
   "metadata": {},
   "source": [
    "Useful videos for the analysis done later-\n",
    "1. https://www.youtube.com/watch?v=LdQV3cbUwEE&list=PLe1-kjuYBZ05T9iHV_z60B9mpFt201ND5&index=8\n",
    "2. https://www.youtube.com/watch?v=HP7ThAj_f1E\n",
    "\n",
    "_Both videos are on Youtube @Bioinformatics Coach_"
   ]
  },
  {
   "cell_type": "markdown",
   "id": "f66ba1bf",
   "metadata": {},
   "source": [
    "KeyError resolution -\n",
    "\n",
    "    gene_name = gene.qualifiers['gene'][0]\n",
    "    gene_name = gene.qualifiers.get('gene',['unavailable'])[0]\n",
    "\n",
    "_Source_: https://bioinformatics.stackexchange.com/questions/15454/keyerror-when-getting-features-from-a-genbank-file-with-biopython-with-some-acce/15456#15456"
   ]
  },
  {
   "cell_type": "code",
   "execution_count": 307,
   "id": "f30e70f5",
   "metadata": {},
   "outputs": [],
   "source": [
    "# To clear the environment variables stored earlier in the notebook\n",
    "del count, gb_record, l, genes, i"
   ]
  },
  {
   "cell_type": "code",
   "execution_count": 188,
   "id": "746486b7",
   "metadata": {},
   "outputs": [],
   "source": [
    "# # OLD working function for 200 bp only\n",
    "# def genbank_file_reader(file_name):\n",
    "#     \"\"\"Takes in genbank file name in the folder ./genbank_files/;\n",
    "#     Outputs the dataframe for that genbank file\n",
    "#     \"\"\"\n",
    "#     gb_record = SeqIO.read(open(f\"./genbank_files/{file_name}\", 'r'), 'genbank')\n",
    "#     print(f'Name {gb_record.name}, {len(gb_record.features)} features')\n",
    "    \n",
    "#     data = []\n",
    "\n",
    "#     allgenes = (\n",
    "#         feature\n",
    "#         for feature in gb_record.features\n",
    "#         if feature.type == 'gene'\n",
    "#     )\n",
    "\n",
    "#     for gene in allgenes:\n",
    "\n",
    "#         gene_name = gene.qualifiers.get('gene',['unavailable'])[0]\n",
    "#         gene_ID = gene.qualifiers['db_xref'][0][7:]\n",
    "# #         gene_ID = gene.qualifiers.get('db_xref', ['GeneID:unavailable'])[0][7:]        \n",
    "#         start_pos = gene.location.nofuzzy_start\n",
    "#     #     start_pos = gene.location.nofuzzy_start + 1 # if 1-based indexing required\n",
    "#         end_pos = gene.location.nofuzzy_end\n",
    "#         strand_sense = gene.strand\n",
    "\n",
    "#         gene_seq = gene.extract(gb_record).seq\n",
    "\n",
    "#     #     For +ve sense strand\n",
    "#         if strand_sense == 1:\n",
    "#             if len(gb_record.seq[:start_pos]) >= 200:\n",
    "#                 upstream_flank = gb_record.seq[start_pos-200:start_pos]\n",
    "#             else:\n",
    "#                 upstream_flank = gb_record.seq[:start_pos]\n",
    "\n",
    "#             if len(gb_record.seq[end_pos:]) >= 200:\n",
    "#                 downstream_flank = gb_record.seq[end_pos:end_pos+200]\n",
    "#             else:\n",
    "#                 downstream_flank = gb_record.seq[end_pos:]\n",
    "#     #     For -ve sense strand\n",
    "#         elif strand_sense == -1:\n",
    "#             if len(gb_record.seq[:start_pos]) >= 200:\n",
    "#                 downstream_flank = gb_record.seq[start_pos-200:start_pos].reverse_complement()\n",
    "#             else:\n",
    "#                 downstream_flank = gb_record.seq[:start_pos].reverse_complement()\n",
    "\n",
    "#             if len(gb_record.seq[end_pos:]) >= 200:\n",
    "#                 upstream_flank = gb_record.seq[end_pos:end_pos+200].reverse_complement()\n",
    "#             else:\n",
    "#                 upstream_flank = gb_record.seq[end_pos:].reverse_complement()\n",
    "\n",
    "#         data.append((gene_ID, gene_name, start_pos, end_pos, strand_sense, \n",
    "#                      str(gene_seq), str(upstream_flank), str(downstream_flank)))    \n",
    "\n",
    "\n",
    "#     # Creating an empty dataframe\n",
    "#     df = pd.DataFrame(data, columns=['gene_ID', \n",
    "#                                      'gene_name', \n",
    "#                                      'start_position', \n",
    "#                                      'end_position', \n",
    "#                                      'strand_sense', \n",
    "#                                      'gene_seq', \n",
    "#                                      'upstream_flank', \n",
    "#                                      'downstream_flank'])\n",
    "# # #     Saving the dataframe to a .csv file\n",
    "#     df.to_csv('./csv_files/'+file_name[:-3]+'.csv', index=False)"
   ]
  },
  {
   "cell_type": "code",
   "execution_count": 312,
   "id": "b42d8b96",
   "metadata": {},
   "outputs": [],
   "source": [
    "def genbank_file_reader(file_name):\n",
    "    \"\"\"Takes in genbank file name in the folder ./genbank_files/;\n",
    "    Outputs the dataframe for that genbank file\n",
    "    \"\"\"\n",
    "    gb_record = SeqIO.read(open(f\"./genbank_files/{file_name}\", 'r'), 'genbank')\n",
    "    print(f'Name {gb_record.name}, {len(gb_record.features)} features')\n",
    "    \n",
    "    data = []\n",
    "\n",
    "    allgenes = (\n",
    "        feature\n",
    "        for feature in gb_record.features\n",
    "        if feature.type == 'gene'\n",
    "    )\n",
    "\n",
    "    for gene in allgenes:\n",
    "\n",
    "        gene_name = gene.qualifiers.get('gene',['unavailable'])[0]\n",
    "        gene_ID = gene.qualifiers['db_xref'][0][7:]\n",
    "#         gene_ID = gene.qualifiers.get('db_xref', ['GeneID:unavailable'])[0][7:]        \n",
    "        start_pos = gene.location.nofuzzy_start\n",
    "    #     start_pos = gene.location.nofuzzy_start + 1 # if 1-based indexing required\n",
    "        end_pos = gene.location.nofuzzy_end\n",
    "        strand_sense = gene.strand\n",
    "\n",
    "        gene_seq = gene.extract(gb_record).seq\n",
    "\n",
    "    #     For +ve sense strand\n",
    "        if strand_sense == 1:\n",
    "            if len(gb_record.seq[:start_pos]) >= 200:\n",
    "                upstream_flank = gb_record.seq[start_pos-200:start_pos]\n",
    "            else:\n",
    "                upstream_flank = gb_record.seq[:start_pos]\n",
    "\n",
    "            if len(gb_record.seq[end_pos:]) >= 200:\n",
    "                downstream_flank = gb_record.seq[end_pos:end_pos+200]\n",
    "            else:\n",
    "                downstream_flank = gb_record.seq[end_pos:]\n",
    "    #     For -ve sense strand\n",
    "        elif strand_sense == -1:\n",
    "            if len(gb_record.seq[:start_pos]) >= 200:\n",
    "                downstream_flank = gb_record.seq[start_pos-200:start_pos].reverse_complement()\n",
    "            else:\n",
    "                downstream_flank = gb_record.seq[:start_pos].reverse_complement()\n",
    "\n",
    "            if len(gb_record.seq[end_pos:]) >= 200:\n",
    "                upstream_flank = gb_record.seq[end_pos:end_pos+200].reverse_complement()\n",
    "            else:\n",
    "                upstream_flank = gb_record.seq[end_pos:].reverse_complement()\n",
    "    \n",
    "    # Addition starts ---------------------------------------------------------------\n",
    "    #     For +ve sense strand\n",
    "        if strand_sense == 1:\n",
    "            if len(gb_record.seq[:start_pos]) >= 203:\n",
    "                upstream_flank_203 = gb_record.seq[start_pos-200:start_pos+3]\n",
    "            else:\n",
    "                upstream_flank_203 = gb_record.seq[:start_pos+3]\n",
    "\n",
    "            if len(gb_record.seq[end_pos:]) >= 203:\n",
    "                downstream_flank_203 = gb_record.seq[end_pos:end_pos+203]\n",
    "            else:\n",
    "                downstream_flank_203 = gb_record.seq[end_pos:]\n",
    "    #     For -ve sense strand\n",
    "        elif strand_sense == -1:\n",
    "            if len(gb_record.seq[:start_pos]) >= 203:\n",
    "                downstream_flank_203 = gb_record.seq[start_pos-203:start_pos].reverse_complement()\n",
    "            else:\n",
    "                downstream_flank_203 = gb_record.seq[:start_pos].reverse_complement()\n",
    "\n",
    "            if len(gb_record.seq[end_pos:]) >= 203:\n",
    "                upstream_flank_203 = gb_record.seq[end_pos-3:end_pos+200].reverse_complement()\n",
    "            else:\n",
    "                upstream_flank_203 = gb_record.seq[end_pos-3:].reverse_complement()                \n",
    "    # Addition ends ---------------------------------------------------------------            \n",
    "                \n",
    "        data.append((gene_ID, gene_name, start_pos, end_pos, strand_sense, \n",
    "                     str(gene_seq), str(upstream_flank), str(downstream_flank), \n",
    "                     str(upstream_flank_203), str(downstream_flank_203)))    \n",
    "\n",
    "\n",
    "    # Creating an empty dataframe\n",
    "    df = pd.DataFrame(data, columns=['gene_ID', \n",
    "                                     'gene_name', \n",
    "                                     'start_position', \n",
    "                                     'end_position', \n",
    "                                     'strand_sense', \n",
    "                                     'gene_seq', \n",
    "                                     'upstream_flank', \n",
    "                                     'downstream_flank', \n",
    "                                     'upstream_flank_203', \n",
    "                                     'downstream_flank_203'])\n",
    "# #     Saving the dataframe to a .csv file\n",
    "    df.to_csv('./csv_files/'+file_name[:-3]+'.csv', index=False)"
   ]
  },
  {
   "cell_type": "markdown",
   "id": "8142a557",
   "metadata": {},
   "source": [
    "How to iterate over a given directory:\n",
    "https://stackoverflow.com/questions/10377998/how-can-i-iterate-over-files-in-a-given-directory"
   ]
  },
  {
   "cell_type": "code",
   "execution_count": 313,
   "id": "1e33e2cc",
   "metadata": {
    "scrolled": false
   },
   "outputs": [
    {
     "name": "stdout",
     "output_type": "stream",
     "text": [
      "bacillus_subtilis.gb\n",
      "Name NC_000964, 9074 features\n",
      "streptococcus_pneumoniae.gb\n",
      "Name NZ_CP020549, 4328 features\n",
      "klebsiella_pneumoniae.gb\n",
      "Name NC_016845, 10894 features\n"
     ]
    }
   ],
   "source": [
    "# To do the flank calculations for all files\n",
    "directory = os.fsencode('./genbank_files/')\n",
    "\n",
    "for file in os.listdir(directory):\n",
    "    filename = os.fsdecode(file)\n",
    "    if filename.endswith('.gb'):\n",
    "        print(filename)\n",
    "        genbank_file_reader(filename)"
   ]
  },
  {
   "cell_type": "markdown",
   "id": "5aed2c25",
   "metadata": {
    "heading_collapsed": true
   },
   "source": [
    "#### Rough work"
   ]
  },
  {
   "cell_type": "code",
   "execution_count": 67,
   "id": "88eff977",
   "metadata": {
    "hidden": true
   },
   "outputs": [
    {
     "name": "stdout",
     "output_type": "stream",
     "text": [
      "Name NC_000964, 9074 features\n"
     ]
    }
   ],
   "source": [
    "# # Loading the genbank file (given it has only one record; otherwise looping over it is required)\n",
    "\n",
    "# gb_record = SeqIO.read(open(\"./genbank_files/bacillus_subtilis.gb\", 'r'), 'genbank')\n",
    "# print(f'Name {gb_record.name}, {len(gb_record.features)} features')\n",
    "\n",
    "# # print(f'Total genes in this file are {len(allgenes)}')\n",
    "\n",
    "# data = []"
   ]
  },
  {
   "cell_type": "code",
   "execution_count": 133,
   "id": "c686e885",
   "metadata": {
    "hidden": true,
    "scrolled": false
   },
   "outputs": [],
   "source": [
    "# allgenes = (\n",
    "#     feature\n",
    "#     for feature in gb_record.features\n",
    "#     if feature.type == 'gene'\n",
    "# )\n",
    "\n",
    "# for gene in allgenes:\n",
    "# #     gene_name = gene.qualifiers['gene'][0]\n",
    "#     gene_name = gene.qualifiers.get('gene',['unavailable'])[0]\n",
    "#     start_pos = gene.location.nofuzzy_start\n",
    "# #     start_pos = gene.location.nofuzzy_start + 1 # if 1-based indexing required\n",
    "#     end_pos = gene.location.nofuzzy_end\n",
    "#     strand_sense = gene.strand\n",
    "    \n",
    "#     gene_seq = gene.extract(gb_record).seq\n",
    "# #     print(gene_name, start_pos, end_pos, strand_sense)\n",
    "# #     print(f'\\n\\n{gene_seq}')\n",
    "    \n",
    "# #     For +ve sense strand\n",
    "#     if strand_sense == 1:\n",
    "#         if len(gb_record.seq[:start_pos]) >= 200:\n",
    "#             upstream_flank = gb_record.seq[start_pos-200:start_pos]\n",
    "#         else:\n",
    "#             upstream_flank = gb_record.seq[:start_pos]\n",
    "        \n",
    "#         if len(gb_record.seq[end_pos:]) >= 200:\n",
    "#             downstream_flank = gb_record.seq[end_pos:end_pos+200]\n",
    "#         else:\n",
    "#             downstream_flank = gb_record.seq[end_pos:]\n",
    "# #     For -ve sense strand\n",
    "#     elif strand_sense == -1:\n",
    "#         if len(gb_record.seq[:start_pos]) >= 200:\n",
    "#             downstream_flank = gb_record.seq[start_pos-200:start_pos].reverse_complement()\n",
    "#         else:\n",
    "#             downstream_flank = gb_record.seq[:start_pos].reverse_complement()\n",
    "        \n",
    "#         if len(gb_record.seq[end_pos:]) >= 200:\n",
    "#             upstream_flank = gb_record.seq[end_pos:end_pos+200].reverse_complement()\n",
    "#         else:\n",
    "#             upstream_flank = gb_record.seq[end_pos:].reverse_complement()\n",
    "    \n",
    "# #     print(f'\\n{upstream_flank}\\n\\n{downstream_flank}')\n",
    "# #     data.append((gene_name, str(start_pos), str(end_pos), \n",
    "# #                 str(strand_sense), str(gene_seq), str(upstream_flank), str(downstream_flank)))\n",
    "#     data.append((gene_name, start_pos, end_pos, strand_sense, \n",
    "#                  str(gene_seq), str(upstream_flank), str(downstream_flank)))    \n",
    "# #     break"
   ]
  },
  {
   "cell_type": "code",
   "execution_count": 134,
   "id": "dbbc4e0b",
   "metadata": {
    "hidden": true
   },
   "outputs": [
    {
     "data": {
      "text/html": [
       "<div>\n",
       "<style scoped>\n",
       "    .dataframe tbody tr th:only-of-type {\n",
       "        vertical-align: middle;\n",
       "    }\n",
       "\n",
       "    .dataframe tbody tr th {\n",
       "        vertical-align: top;\n",
       "    }\n",
       "\n",
       "    .dataframe thead th {\n",
       "        text-align: right;\n",
       "    }\n",
       "</style>\n",
       "<table border=\"1\" class=\"dataframe\">\n",
       "  <thead>\n",
       "    <tr style=\"text-align: right;\">\n",
       "      <th></th>\n",
       "      <th>gene_name</th>\n",
       "      <th>start_position</th>\n",
       "      <th>end_position</th>\n",
       "      <th>strand_sense</th>\n",
       "      <th>gene_seq</th>\n",
       "      <th>upstream_flank</th>\n",
       "      <th>downstream_flank</th>\n",
       "    </tr>\n",
       "  </thead>\n",
       "  <tbody>\n",
       "    <tr>\n",
       "      <th>0</th>\n",
       "      <td>dnaA</td>\n",
       "      <td>409</td>\n",
       "      <td>1750</td>\n",
       "      <td>1</td>\n",
       "      <td>ATGGAAAATATATTAGACCTGTGGAACCAAGCCCTTGCTCAAATCG...</td>\n",
       "      <td>ATAAGTTGTGGATTGATTTCACACAGCTTGTGTAGAAGGTTGTCCA...</td>\n",
       "      <td>CAGGACCGGGGATCAATCGGGGAAAGTGTGAATAACTTTTCGGAAG...</td>\n",
       "    </tr>\n",
       "    <tr>\n",
       "      <th>1</th>\n",
       "      <td>dnaN</td>\n",
       "      <td>1938</td>\n",
       "      <td>3075</td>\n",
       "      <td>1</td>\n",
       "      <td>ATGAAATTCACGATTCAAAAAGATCGTCTTGTTGAAAGTGTCCAAG...</td>\n",
       "      <td>CAGCTTAAATAGCAGGACCGGGGATCAATCGGGGAAAGTGTGAATA...</td>\n",
       "      <td>TCCGATACACTGCTGCCGACCCGTCGGCAGCTTTTCTATTCGGTAT...</td>\n",
       "    </tr>\n",
       "    <tr>\n",
       "      <th>2</th>\n",
       "      <td>rlbA</td>\n",
       "      <td>3205</td>\n",
       "      <td>3421</td>\n",
       "      <td>1</td>\n",
       "      <td>ATGGCAAATCCGATTTCAATTGATACAGAGATGATTACACTCGGAC...</td>\n",
       "      <td>ACCTTTCTTAATTCGCACGCCGAATGATGAAACGATTGTACAGCTT...</td>\n",
       "      <td>AGCGGGTGACACTGATTGTATATCCAGAACTTAGAACTGACATCTT...</td>\n",
       "    </tr>\n",
       "    <tr>\n",
       "      <th>3</th>\n",
       "      <td>recF</td>\n",
       "      <td>3436</td>\n",
       "      <td>4549</td>\n",
       "      <td>1</td>\n",
       "      <td>TTGTATATCCAGAACTTAGAACTGACATCTTACCGCAACTACGACC...</td>\n",
       "      <td>TGATTACACTCGGACAATTCTTAAAATTAGCCGATGTGATTCAGTC...</td>\n",
       "      <td>AGAAATGAGGTGAGCAATTGTATATTCATTTAGGTGATGACTTTGT...</td>\n",
       "    </tr>\n",
       "    <tr>\n",
       "      <th>4</th>\n",
       "      <td>remB</td>\n",
       "      <td>4566</td>\n",
       "      <td>4812</td>\n",
       "      <td>1</td>\n",
       "      <td>TTGTATATTCATTTAGGTGATGACTTTGTGGTTTCAACACGAGATA...</td>\n",
       "      <td>CCCATTTTACTATTGGATGATGTACTGAGTGAACTGGATGATTATC...</td>\n",
       "      <td>AAATTTTTTATCACGAATATATCGTTTAGAAAAGTGTAGGTGAATG...</td>\n",
       "    </tr>\n",
       "    <tr>\n",
       "      <th>...</th>\n",
       "      <td>...</td>\n",
       "      <td>...</td>\n",
       "      <td>...</td>\n",
       "      <td>...</td>\n",
       "      <td>...</td>\n",
       "      <td>...</td>\n",
       "      <td>...</td>\n",
       "    </tr>\n",
       "    <tr>\n",
       "      <th>4531</th>\n",
       "      <td>mnmE</td>\n",
       "      <td>4211509</td>\n",
       "      <td>4212889</td>\n",
       "      <td>-1</td>\n",
       "      <td>ATGGATACAATTGCGGCAATTTCCACACCGATGGGAGAAGGCGCGA...</td>\n",
       "      <td>TATCCTGTTGATAAAAAGGAAGTTCAGGAAATAAAATTAATTGTTA...</td>\n",
       "      <td>TTAAAGGAGGAACTAGAATCATGGGGTATGAAGCAGGCCAATACGA...</td>\n",
       "    </tr>\n",
       "    <tr>\n",
       "      <th>4532</th>\n",
       "      <td>jag</td>\n",
       "      <td>4213199</td>\n",
       "      <td>4213826</td>\n",
       "      <td>-1</td>\n",
       "      <td>GTGAGGAATGTGACTGCTGCAGGGCGAAATGTCGATGAAGCAGTAC...</td>\n",
       "      <td>AATGCGCAGCAAAATCCGCAAATGGCGATGATGCTTTGGATTATGC...</td>\n",
       "      <td>CATAAAACCGAAGTCCGATAAAAATTGGATTTCGGTTTTTTTGTAT...</td>\n",
       "    </tr>\n",
       "    <tr>\n",
       "      <th>4533</th>\n",
       "      <td>oxaAA</td>\n",
       "      <td>4213822</td>\n",
       "      <td>4214608</td>\n",
       "      <td>-1</td>\n",
       "      <td>ATGTTGTTGAAAAGGAGAATAGGGTTGCTATTAAGTATGGTTGGCG...</td>\n",
       "      <td>GTCTGCAGCATCTATTCAGAAAGTCTTCATTATATAAGAAATCTTC...</td>\n",
       "      <td>GGAATGTGACTGCTGCAGGGCGAAATGTCGATGAAGCAGTACAGTC...</td>\n",
       "    </tr>\n",
       "    <tr>\n",
       "      <th>4534</th>\n",
       "      <td>rnpA</td>\n",
       "      <td>4214752</td>\n",
       "      <td>4215103</td>\n",
       "      <td>-1</td>\n",
       "      <td>TTGAAGAAGCGAAATCGTTTAAAGAAAAATGAAGATTTTCAAAAAG...</td>\n",
       "      <td>AGTTTTAGCACGCCGTCGCCGCAAAGGCAGAAAAGTATTATCAGCT...</td>\n",
       "      <td>GCATCACCACTGCTTTCTTACAACTTTTAAAAGCGCTTCCTTTCTG...</td>\n",
       "    </tr>\n",
       "    <tr>\n",
       "      <th>4535</th>\n",
       "      <td>rpmH</td>\n",
       "      <td>4215254</td>\n",
       "      <td>4215389</td>\n",
       "      <td>-1</td>\n",
       "      <td>ATGAAAAGAACATTCCAACCGAATAACCGTAAACGCAGCAAAGTTC...</td>\n",
       "      <td>TAGGGGCAAATTGTTTGAATTTGTCTTTTTTCCGTAAAATTAAGGA...</td>\n",
       "      <td>GCCACTGAATAATGTCAGTGGTCTTTTTTCACGTTATGGGAAAAGA...</td>\n",
       "    </tr>\n",
       "  </tbody>\n",
       "</table>\n",
       "<p>4536 rows × 7 columns</p>\n",
       "</div>"
      ],
      "text/plain": [
       "     gene_name  start_position  end_position  strand_sense  \\\n",
       "0         dnaA             409          1750             1   \n",
       "1         dnaN            1938          3075             1   \n",
       "2         rlbA            3205          3421             1   \n",
       "3         recF            3436          4549             1   \n",
       "4         remB            4566          4812             1   \n",
       "...        ...             ...           ...           ...   \n",
       "4531      mnmE         4211509       4212889            -1   \n",
       "4532       jag         4213199       4213826            -1   \n",
       "4533     oxaAA         4213822       4214608            -1   \n",
       "4534      rnpA         4214752       4215103            -1   \n",
       "4535      rpmH         4215254       4215389            -1   \n",
       "\n",
       "                                               gene_seq  \\\n",
       "0     ATGGAAAATATATTAGACCTGTGGAACCAAGCCCTTGCTCAAATCG...   \n",
       "1     ATGAAATTCACGATTCAAAAAGATCGTCTTGTTGAAAGTGTCCAAG...   \n",
       "2     ATGGCAAATCCGATTTCAATTGATACAGAGATGATTACACTCGGAC...   \n",
       "3     TTGTATATCCAGAACTTAGAACTGACATCTTACCGCAACTACGACC...   \n",
       "4     TTGTATATTCATTTAGGTGATGACTTTGTGGTTTCAACACGAGATA...   \n",
       "...                                                 ...   \n",
       "4531  ATGGATACAATTGCGGCAATTTCCACACCGATGGGAGAAGGCGCGA...   \n",
       "4532  GTGAGGAATGTGACTGCTGCAGGGCGAAATGTCGATGAAGCAGTAC...   \n",
       "4533  ATGTTGTTGAAAAGGAGAATAGGGTTGCTATTAAGTATGGTTGGCG...   \n",
       "4534  TTGAAGAAGCGAAATCGTTTAAAGAAAAATGAAGATTTTCAAAAAG...   \n",
       "4535  ATGAAAAGAACATTCCAACCGAATAACCGTAAACGCAGCAAAGTTC...   \n",
       "\n",
       "                                         upstream_flank  \\\n",
       "0     ATAAGTTGTGGATTGATTTCACACAGCTTGTGTAGAAGGTTGTCCA...   \n",
       "1     CAGCTTAAATAGCAGGACCGGGGATCAATCGGGGAAAGTGTGAATA...   \n",
       "2     ACCTTTCTTAATTCGCACGCCGAATGATGAAACGATTGTACAGCTT...   \n",
       "3     TGATTACACTCGGACAATTCTTAAAATTAGCCGATGTGATTCAGTC...   \n",
       "4     CCCATTTTACTATTGGATGATGTACTGAGTGAACTGGATGATTATC...   \n",
       "...                                                 ...   \n",
       "4531  TATCCTGTTGATAAAAAGGAAGTTCAGGAAATAAAATTAATTGTTA...   \n",
       "4532  AATGCGCAGCAAAATCCGCAAATGGCGATGATGCTTTGGATTATGC...   \n",
       "4533  GTCTGCAGCATCTATTCAGAAAGTCTTCATTATATAAGAAATCTTC...   \n",
       "4534  AGTTTTAGCACGCCGTCGCCGCAAAGGCAGAAAAGTATTATCAGCT...   \n",
       "4535  TAGGGGCAAATTGTTTGAATTTGTCTTTTTTCCGTAAAATTAAGGA...   \n",
       "\n",
       "                                       downstream_flank  \n",
       "0     CAGGACCGGGGATCAATCGGGGAAAGTGTGAATAACTTTTCGGAAG...  \n",
       "1     TCCGATACACTGCTGCCGACCCGTCGGCAGCTTTTCTATTCGGTAT...  \n",
       "2     AGCGGGTGACACTGATTGTATATCCAGAACTTAGAACTGACATCTT...  \n",
       "3     AGAAATGAGGTGAGCAATTGTATATTCATTTAGGTGATGACTTTGT...  \n",
       "4     AAATTTTTTATCACGAATATATCGTTTAGAAAAGTGTAGGTGAATG...  \n",
       "...                                                 ...  \n",
       "4531  TTAAAGGAGGAACTAGAATCATGGGGTATGAAGCAGGCCAATACGA...  \n",
       "4532  CATAAAACCGAAGTCCGATAAAAATTGGATTTCGGTTTTTTTGTAT...  \n",
       "4533  GGAATGTGACTGCTGCAGGGCGAAATGTCGATGAAGCAGTACAGTC...  \n",
       "4534  GCATCACCACTGCTTTCTTACAACTTTTAAAAGCGCTTCCTTTCTG...  \n",
       "4535  GCCACTGAATAATGTCAGTGGTCTTTTTTCACGTTATGGGAAAAGA...  \n",
       "\n",
       "[4536 rows x 7 columns]"
      ]
     },
     "execution_count": 134,
     "metadata": {},
     "output_type": "execute_result"
    }
   ],
   "source": [
    "# # Creating an empty dataframe\n",
    "# df = pd.DataFrame(data, columns=['gene_name',\n",
    "#                            'start_position',\n",
    "#                            'end_position',\n",
    "#                            'strand_sense', \n",
    "#                            'gene_seq', \n",
    "#                            'upstream_flank', \n",
    "#                            'downstream_flank'])\n",
    "\n",
    "# df"
   ]
  },
  {
   "cell_type": "code",
   "execution_count": 135,
   "id": "e9e4980e",
   "metadata": {
    "hidden": true
   },
   "outputs": [
    {
     "data": {
      "text/html": [
       "<div>\n",
       "<style scoped>\n",
       "    .dataframe tbody tr th:only-of-type {\n",
       "        vertical-align: middle;\n",
       "    }\n",
       "\n",
       "    .dataframe tbody tr th {\n",
       "        vertical-align: top;\n",
       "    }\n",
       "\n",
       "    .dataframe thead th {\n",
       "        text-align: right;\n",
       "    }\n",
       "</style>\n",
       "<table border=\"1\" class=\"dataframe\">\n",
       "  <thead>\n",
       "    <tr style=\"text-align: right;\">\n",
       "      <th></th>\n",
       "      <th>gene_name</th>\n",
       "      <th>start_position</th>\n",
       "      <th>end_position</th>\n",
       "      <th>strand_sense</th>\n",
       "      <th>gene_seq</th>\n",
       "      <th>upstream_flank</th>\n",
       "      <th>downstream_flank</th>\n",
       "    </tr>\n",
       "  </thead>\n",
       "  <tbody>\n",
       "    <tr>\n",
       "      <th>313</th>\n",
       "      <td>unavailable</td>\n",
       "      <td>281674</td>\n",
       "      <td>281809</td>\n",
       "      <td>-1</td>\n",
       "      <td>TTGGCAAGAAGCATTATCTTGAAACAAGAACAGACTCATAATGGAA...</td>\n",
       "      <td>TCTTTATGTATTGCCGAAATGGAATAATATGATTGCAACTTTGGCT...</td>\n",
       "      <td>GAAAAGAACAAACCGAATGCCGCTAACGATAACGGGATATACACAA...</td>\n",
       "    </tr>\n",
       "    <tr>\n",
       "      <th>335</th>\n",
       "      <td>unavailable</td>\n",
       "      <td>300524</td>\n",
       "      <td>300656</td>\n",
       "      <td>-1</td>\n",
       "      <td>ATGACAAAGGAGGGCGGAGTTTCCAGAAAATCCGGTGAAAACCGTG...</td>\n",
       "      <td>TTTCTTCACAAAGGCGGCCCCTTTCATCCTTCTTAAGTTCCCTCCA...</td>\n",
       "      <td>ACCATTTGAGGAGGAAAAATGAATGTTTCAGAAAAAAACGTACGCT...</td>\n",
       "    </tr>\n",
       "    <tr>\n",
       "      <th>397</th>\n",
       "      <td>unavailable</td>\n",
       "      <td>369019</td>\n",
       "      <td>369217</td>\n",
       "      <td>1</td>\n",
       "      <td>TTGTCCAAGGATGAATGCCAGACGTACCAAGGAAACGCATGTGAAA...</td>\n",
       "      <td>ACTGAATATAACGGCTTTGGAATGCATGAATGATTTCACCTATAGT...</td>\n",
       "      <td>ACCATAATGGGGAGTCAAATGAATATTTACAAACCAGCCGGATTTT...</td>\n",
       "    </tr>\n",
       "    <tr>\n",
       "      <th>502</th>\n",
       "      <td>unavailable</td>\n",
       "      <td>490545</td>\n",
       "      <td>490749</td>\n",
       "      <td>-1</td>\n",
       "      <td>TTGATAAGAATAAGCATGCAAGGACAAATGCATCTTCCTTTGAAAC...</td>\n",
       "      <td>GAGTCGCGCCCGGCATTGCCATGATCGTGCTCAGTATCATTTCCCT...</td>\n",
       "      <td>CCGTTTCAAACTTTTCTTCAGTGACGGCATTTCAAATTTTTGGTTT...</td>\n",
       "    </tr>\n",
       "    <tr>\n",
       "      <th>544</th>\n",
       "      <td>unavailable</td>\n",
       "      <td>524359</td>\n",
       "      <td>524476</td>\n",
       "      <td>1</td>\n",
       "      <td>ATGTGGAATTATGAATACACAGCGATAGCTGATGTGGATGTGGGAA...</td>\n",
       "      <td>CAATCGGTAGAAGAAATATCGAATTCGCTGAAAATGTATACGACAT...</td>\n",
       "      <td>AAGGACAATTTCAAAATGGAACGGAAGGAACATTGCTTCTGCAAGG...</td>\n",
       "    </tr>\n",
       "    <tr>\n",
       "      <th>...</th>\n",
       "      <td>...</td>\n",
       "      <td>...</td>\n",
       "      <td>...</td>\n",
       "      <td>...</td>\n",
       "      <td>...</td>\n",
       "      <td>...</td>\n",
       "      <td>...</td>\n",
       "    </tr>\n",
       "    <tr>\n",
       "      <th>4104</th>\n",
       "      <td>unavailable</td>\n",
       "      <td>3804713</td>\n",
       "      <td>3804875</td>\n",
       "      <td>-1</td>\n",
       "      <td>ATGTTTTTGTCCTCGCTTCCTTCAAAACTCATTAAGACAATCCTTT...</td>\n",
       "      <td>GGGTGTGAGCCCGCTTTAACTTTTGCAGAAAAGCGTCAACTCTATC...</td>\n",
       "      <td>GATATTGACTATGAAAAGCGTGGTGTTTTTATGAAAGACGTATCTA...</td>\n",
       "    </tr>\n",
       "    <tr>\n",
       "      <th>4155</th>\n",
       "      <td>unavailable</td>\n",
       "      <td>3856781</td>\n",
       "      <td>3856937</td>\n",
       "      <td>-1</td>\n",
       "      <td>ATGCTTTTTACGGTTTCCAGAGAGGGAAGGACAGCTGAGATCTTCC...</td>\n",
       "      <td>TTGGTATGCTGGTGCCGGGTTTGCGTTTTTGATGATGGGAGCGGCA...</td>\n",
       "      <td>TCGGGAATTTGGGTGGAACCACGGATGATCAACACATTCGTCCCTT...</td>\n",
       "    </tr>\n",
       "    <tr>\n",
       "      <th>4251</th>\n",
       "      <td>unavailable</td>\n",
       "      <td>3951823</td>\n",
       "      <td>3951958</td>\n",
       "      <td>-1</td>\n",
       "      <td>ATGGAATGTTTCGAGCTGATTCATAATAAAGGAAAAGATACCTGGA...</td>\n",
       "      <td>TGTCCACTTGACAGCGGGTTTTTCATACAGCTGTTTCATTAATTGC...</td>\n",
       "      <td>TGAAATCAGGGCGAGAAGCGTATAATAAGAAAGAAAACGCCTTCTT...</td>\n",
       "    </tr>\n",
       "    <tr>\n",
       "      <th>4452</th>\n",
       "      <td>unavailable</td>\n",
       "      <td>4147418</td>\n",
       "      <td>4147547</td>\n",
       "      <td>-1</td>\n",
       "      <td>TTGCCAGGCTGTTTTGATATGCAAAAAAAACTGAACAGGGGTCACG...</td>\n",
       "      <td>GCTGAAGGAACTGGATGTCATCACGGAATTTGACGGATACAAAGTA...</td>\n",
       "      <td>CTGCAAATACTTCCGTTATTTGCATGGACTTTAATGGTTTGTACCG...</td>\n",
       "    </tr>\n",
       "    <tr>\n",
       "      <th>4483</th>\n",
       "      <td>unavailable</td>\n",
       "      <td>4171800</td>\n",
       "      <td>4171986</td>\n",
       "      <td>-1</td>\n",
       "      <td>TTGTCACATCAAACAAAATACCCCGTCAATGAAGCCGCAATAATGC...</td>\n",
       "      <td>AGCTCATTTTCTTTTTATGACAGCTGAATATCTTGAAAAACAGCAC...</td>\n",
       "      <td>TATATCCAATCATGATGATTAGGGGAATTCATTTGGAACAGCAATT...</td>\n",
       "    </tr>\n",
       "  </tbody>\n",
       "</table>\n",
       "<p>67 rows × 7 columns</p>\n",
       "</div>"
      ],
      "text/plain": [
       "        gene_name  start_position  end_position  strand_sense  \\\n",
       "313   unavailable          281674        281809            -1   \n",
       "335   unavailable          300524        300656            -1   \n",
       "397   unavailable          369019        369217             1   \n",
       "502   unavailable          490545        490749            -1   \n",
       "544   unavailable          524359        524476             1   \n",
       "...           ...             ...           ...           ...   \n",
       "4104  unavailable         3804713       3804875            -1   \n",
       "4155  unavailable         3856781       3856937            -1   \n",
       "4251  unavailable         3951823       3951958            -1   \n",
       "4452  unavailable         4147418       4147547            -1   \n",
       "4483  unavailable         4171800       4171986            -1   \n",
       "\n",
       "                                               gene_seq  \\\n",
       "313   TTGGCAAGAAGCATTATCTTGAAACAAGAACAGACTCATAATGGAA...   \n",
       "335   ATGACAAAGGAGGGCGGAGTTTCCAGAAAATCCGGTGAAAACCGTG...   \n",
       "397   TTGTCCAAGGATGAATGCCAGACGTACCAAGGAAACGCATGTGAAA...   \n",
       "502   TTGATAAGAATAAGCATGCAAGGACAAATGCATCTTCCTTTGAAAC...   \n",
       "544   ATGTGGAATTATGAATACACAGCGATAGCTGATGTGGATGTGGGAA...   \n",
       "...                                                 ...   \n",
       "4104  ATGTTTTTGTCCTCGCTTCCTTCAAAACTCATTAAGACAATCCTTT...   \n",
       "4155  ATGCTTTTTACGGTTTCCAGAGAGGGAAGGACAGCTGAGATCTTCC...   \n",
       "4251  ATGGAATGTTTCGAGCTGATTCATAATAAAGGAAAAGATACCTGGA...   \n",
       "4452  TTGCCAGGCTGTTTTGATATGCAAAAAAAACTGAACAGGGGTCACG...   \n",
       "4483  TTGTCACATCAAACAAAATACCCCGTCAATGAAGCCGCAATAATGC...   \n",
       "\n",
       "                                         upstream_flank  \\\n",
       "313   TCTTTATGTATTGCCGAAATGGAATAATATGATTGCAACTTTGGCT...   \n",
       "335   TTTCTTCACAAAGGCGGCCCCTTTCATCCTTCTTAAGTTCCCTCCA...   \n",
       "397   ACTGAATATAACGGCTTTGGAATGCATGAATGATTTCACCTATAGT...   \n",
       "502   GAGTCGCGCCCGGCATTGCCATGATCGTGCTCAGTATCATTTCCCT...   \n",
       "544   CAATCGGTAGAAGAAATATCGAATTCGCTGAAAATGTATACGACAT...   \n",
       "...                                                 ...   \n",
       "4104  GGGTGTGAGCCCGCTTTAACTTTTGCAGAAAAGCGTCAACTCTATC...   \n",
       "4155  TTGGTATGCTGGTGCCGGGTTTGCGTTTTTGATGATGGGAGCGGCA...   \n",
       "4251  TGTCCACTTGACAGCGGGTTTTTCATACAGCTGTTTCATTAATTGC...   \n",
       "4452  GCTGAAGGAACTGGATGTCATCACGGAATTTGACGGATACAAAGTA...   \n",
       "4483  AGCTCATTTTCTTTTTATGACAGCTGAATATCTTGAAAAACAGCAC...   \n",
       "\n",
       "                                       downstream_flank  \n",
       "313   GAAAAGAACAAACCGAATGCCGCTAACGATAACGGGATATACACAA...  \n",
       "335   ACCATTTGAGGAGGAAAAATGAATGTTTCAGAAAAAAACGTACGCT...  \n",
       "397   ACCATAATGGGGAGTCAAATGAATATTTACAAACCAGCCGGATTTT...  \n",
       "502   CCGTTTCAAACTTTTCTTCAGTGACGGCATTTCAAATTTTTGGTTT...  \n",
       "544   AAGGACAATTTCAAAATGGAACGGAAGGAACATTGCTTCTGCAAGG...  \n",
       "...                                                 ...  \n",
       "4104  GATATTGACTATGAAAAGCGTGGTGTTTTTATGAAAGACGTATCTA...  \n",
       "4155  TCGGGAATTTGGGTGGAACCACGGATGATCAACACATTCGTCCCTT...  \n",
       "4251  TGAAATCAGGGCGAGAAGCGTATAATAAGAAAGAAAACGCCTTCTT...  \n",
       "4452  CTGCAAATACTTCCGTTATTTGCATGGACTTTAATGGTTTGTACCG...  \n",
       "4483  TATATCCAATCATGATGATTAGGGGAATTCATTTGGAACAGCAATT...  \n",
       "\n",
       "[67 rows x 7 columns]"
      ]
     },
     "execution_count": 135,
     "metadata": {},
     "output_type": "execute_result"
    }
   ],
   "source": [
    "# df[df.gene_name == 'unavailable']"
   ]
  },
  {
   "cell_type": "code",
   "execution_count": 139,
   "id": "90cb8f3c",
   "metadata": {
    "hidden": true
   },
   "outputs": [],
   "source": [
    "# del data\n",
    "# data = []"
   ]
  },
  {
   "cell_type": "code",
   "execution_count": null,
   "id": "cfb47e9f",
   "metadata": {
    "hidden": true
   },
   "outputs": [],
   "source": [
    "# # 'gene_seq' can be extracted using string splicing with added .reverse_complement() for -ve sense strands\n",
    "# # Way 1:\n",
    "# if .strand == 1:\n",
    "#     gene_seq = gb_record.seq[gb_record.features[3].location.nofuzzy_start:gb_record.features[3].location.nofuzzy_end]\n",
    "# elif .strand == -1:\n",
    "#     gene_seq = gb_record.seq[gb_record.features[3].location.nofuzzy_start:gb_record.features[3].location.nofuzzy_end].reverse_complement()\n",
    "# # Way 2:\n",
    "# gene.extract(gb_record).seq\n",
    "\n",
    "# ----------------------------------------------------------------------\n",
    "\n",
    "# # For +ve sense strand\n",
    "# for +ve sense strand, upstream_flank is obtained by \n",
    "# if len(gb_record.seq[:gb_record.features[3].location.nofuzzy_start] >= 200):\n",
    "#     [gb_record.features[3].location.nofuzzy_start-200:gb_record.features[3].location.nofuzzy_start]\n",
    "# else:\n",
    "#     [:gb_record.features[3].location.nofuzzy_start]\n",
    "    \n",
    "# for +ve sense strand, downstream_flank is obtained by \n",
    "# if len(gb_record.seq[gb_record.features[3].location.nofuzzy_end:] >= 200):\n",
    "#     [gb_record.features[3].location.nofuzzy_end:gb_record.features[3].location.nofuzzy_end+200]\n",
    "# else:\n",
    "#     [gb_record.features[3].location.nofuzzy_end:]\n",
    "    \n",
    "    \n",
    "# # 'upstream_flank' and 'downstream_flank'; caution required for -ve sense strand\n",
    "# # For -ve sense strand\n",
    "# for -ve sense strand, upstream_flank is obtained by \n",
    "# if len(gb_record.seq[gb_record.features[3].location.nofuzzy_end:] >= 200):\n",
    "#     [gb_record.features[3].location.nofuzzy_end:gb_record.features[3].location.nofuzzy_end+200].reverse_complement()\n",
    "# else:\n",
    "#     [gb_record.features[3].location.nofuzzy_end:].reverse_complement()\n",
    "    \n",
    "# for -ve sense strand, downstream_flank is obtained by \n",
    "# if len(gb_record.seq[:gb_record.features[3].location.nofuzzy_start] >= 200):\n",
    "#     [gb_record.features[3].location.nofuzzy_start-200:gb_record.features[3].location.nofuzzy_start].reverse_complement()\n",
    "# else:\n",
    "#     [:gb_record.features[3].location.nofuzzy_start].reverse_complement()\n"
   ]
  },
  {
   "cell_type": "code",
   "execution_count": 77,
   "id": "9b3f7fa8",
   "metadata": {
    "hidden": true
   },
   "outputs": [
    {
     "name": "stdout",
     "output_type": "stream",
     "text": [
      "yaaC 14846 15794 -1\n",
      "\n",
      "ATGACATATCATGAGTGGAAAGACTTAGCGCTATTTTACTCCGTTGAATCAACCCAGAAATTTCTAGAAAAGGTTTATATCTTAAACGGTATTAACGATGCGAAAAAAAACTCTTTTAAAAACAGTGAACGGTTTATTTATTTCTTAAAGCATGCCGAATCGTTTTATAAACAAGCCGCATATTCTCCCTTAGAAATCAAACCGATTCTTTTATTTTATGGAATGGCACAGCTTATCAAAGCATGCTTAATTACACGTGATCCTCATTATCCAAGCCATACATCAGTACTGGCACATGGCGTAACAACAAGAAAACGAAAGAAACAAAATTATTGTTTTAGCGACGATGAAGTGAAAATACAACGGAATGGCCTATGCGTACATTTTATGAAACATTTATTCGGACAATCGGATATAGTAGATGAACGGTATACCATGAAAAAATTATTAATGGCCATTCCAGAACTTAGCGATATTTTCTACTTTCAGCAGAAAGAACGATTTATGACAAAAGTTGAGAAGGATAAGAACGAAATTTTTGTACCGGAGGAAGTAGTAATCAATTACAAAATGTCTGATTCAAGGTTTGCTGAATACATGTCCCATCATTATCAATGGTCTTTTACAAAAAAAAATGAACACGGGCTGCTGTTCGAAATTTCACCACAAGACAAGGAGCCATGGACATCGACCAGCTTATTGTTTGACATGGAAAAGAACCAATATTATATCCCTTCTCAAAGGGAGCAATTTCTGAGGCTTCCCGAAATGACAATTCATTATTTGATTTTGTACAACGTTGGGATGATTGCAAGGTATGAAACAGAATGGTGGTATGAGTTATTAACACAGCATATAAGTGATGACTACGTGTTAATTCAGCAGTTTTTATTAGTATCAGAAAAGAAATTCCCTAAATACGCTTCACAGTTTCTTCTTCATTTTTAA\n",
      "\n",
      "TTAAAAATGAAGAAGAAACTGTGAAGCGTATTTAGGGAATTTCTTTTCTGATACTAATAAAAACTGCTGAATTAACACGTAGTCATCACTTATATGCTGTGTTAATAACTCATACCACCATTCTGTTTCATACCTTGCAATCATCCCAACGTTGTACAAAATCAAATAATGAATTGTCATTTCGGGAAGCCTCAGAAATTGCTCCCTTTGAGAAGGGATATAATATTGGTTCTTTTCCATGTCAAACAATAAGCTGGTCGATGTCCATGGCTCCTTGTCTTGTGGTGAAATTTCGAACAGCAGCCCGTGTTCATTTTTTTTTGTAAAAGACCATTGATAATGATGGGACATGTATTCAGCAAACCTTGAATCAGACATTTTGTAATTGATTACTACTTCCTCCGGTACAAAAATTTCGTTCTTATCCTTCTCAACTTTTGTCATAAATCGTTCTTTCTGCTGAAAGTAGAAAATATCGCTAAGTTCTGGAATGGCCATTAATAATTTTTTCATGGTATACCGTTCATCTACTATATCCGATTGTCCGAATAAATGTTTCATAAAATGTACGCATAGGCCATTCCGTTGTATTTTCACTTCATCGTCGCTAAAACAATAATTTTGTTTCTTTCGTTTTCTTGTTGTTACGCCATGTGCCAGTACTGATGTATGGCTTGGATAATGAGGATCACGTGTAATTAAGCATGCTTTGATAAGCTGTGCCATTCCATAAAATAAAAGAATCGGTTTGATTTCTAAGGGAGAATATGCGGCTTGTTTATAAAACGATTCGGCATGCTTTAAGAAATAAATAAACCGTTCACTGTTTTTAAAAGAGTTTTTTTTCGCATCGTTAATACCGTTTAAGATATAAACCTTTTCTAGAAATTTCTGGGTTGATTCAACGGAGTAAAATAGCGCTAAGTCTTTCCACTCATGATATGTCAT\n",
      "\n",
      "ATGACATATCATGAGTGGAAAGACTTAGCGCTATTTTACTCCGTTGAATCAACCCAGAAATTTCTAGAAAAGGTTTATATCTTAAACGGTATTAACGATGCGAAAAAAAACTCTTTTAAAAACAGTGAACGGTTTATTTATTTCTTAAAGCATGCCGAATCGTTTTATAAACAAGCCGCATATTCTCCCTTAGAAATCAAACCGATTCTTTTATTTTATGGAATGGCACAGCTTATCAAAGCATGCTTAATTACACGTGATCCTCATTATCCAAGCCATACATCAGTACTGGCACATGGCGTAACAACAAGAAAACGAAAGAAACAAAATTATTGTTTTAGCGACGATGAAGTGAAAATACAACGGAATGGCCTATGCGTACATTTTATGAAACATTTATTCGGACAATCGGATATAGTAGATGAACGGTATACCATGAAAAAATTATTAATGGCCATTCCAGAACTTAGCGATATTTTCTACTTTCAGCAGAAAGAACGATTTATGACAAAAGTTGAGAAGGATAAGAACGAAATTTTTGTACCGGAGGAAGTAGTAATCAATTACAAAATGTCTGATTCAAGGTTTGCTGAATACATGTCCCATCATTATCAATGGTCTTTTACAAAAAAAAATGAACACGGGCTGCTGTTCGAAATTTCACCACAAGACAAGGAGCCATGGACATCGACCAGCTTATTGTTTGACATGGAAAAGAACCAATATTATATCCCTTCTCAAAGGGAGCAATTTCTGAGGCTTCCCGAAATGACAATTCATTATTTGATTTTGTACAACGTTGGGATGATTGCAAGGTATGAAACAGAATGGTGGTATGAGTTATTAACACAGCATATAAGTGATGACTACGTGTTAATTCAGCAGTTTTTATTAGTATCAGAAAAGAAATTCCCTAAATACGCTTCACAGTTTCTTCTTCATTTTTAA\n",
      "False\n",
      "True\n"
     ]
    }
   ],
   "source": [
    "# allgenes = (\n",
    "#     feature\n",
    "#     for feature in gb_record.features\n",
    "#     if feature.type == 'gene'\n",
    "# )\n",
    "\n",
    "# for gene in allgenes:\n",
    "#     if gene.strand == -1:\n",
    "#         gene_name = gene.qualifiers['gene'][0]\n",
    "#         start_pos = gene.location.nofuzzy_start\n",
    "#     #     start_pos = gene.location.nofuzzy_start + 1 # if 1-based indexing required\n",
    "#         end_pos = gene.location.nofuzzy_end\n",
    "#         strand_sense = gene.strand\n",
    "\n",
    "#         gene_seq = gene.extract(gb_record).seq\n",
    "#         gene_seq2 = gb_record.seq[start_pos:end_pos]\n",
    "#         gene_seq3 = gb_record.seq[start_pos:end_pos].reverse_complement()\n",
    "#         print(gene_name, start_pos, end_pos, strand_sense)\n",
    "#         print(f'\\n{gene_seq}\\n\\n{gene_seq2}\\n\\n{gene_seq3}')\n",
    "#         print(gene_seq == gene_seq2)\n",
    "#         print(gene_seq == gene_seq3)\n",
    "#         break"
   ]
  },
  {
   "cell_type": "code",
   "execution_count": 76,
   "id": "95d4f6cb",
   "metadata": {
    "hidden": true
   },
   "outputs": [
    {
     "name": "stdout",
     "output_type": "stream",
     "text": [
      "dnaA 409 1750 1\n",
      "\n",
      "ATGGAAAATATATTAGACCTGTGGAACCAAGCCCTTGCTCAAATCGAAAAAAAGTTGAGCAAACCGAGTTTTGAGACTTGGATGAAGTCAACCAAAGCCCACTCACTGCAAGGCGATACATTAACAATCACGGCTCCCAATGAATTTGCCAGAGACTGGCTGGAGTCCAGATACTTGCATCTGATTGCAGATACTATATATGAATTAACCGGGGAAGAATTGAGCATTAAGTTTGTCATTCCTCAAAATCAAGATGTTGAGGACTTTATGCCGAAACCGCAAGTCAAAAAAGCGGTCAAAGAAGATACATCTGATTTTCCTCAAAATATGCTCAATCCAAAATATACTTTTGATACTTTTGTCATCGGATCTGGAAACCGATTTGCACATGCTGCTTCCCTCGCAGTAGCGGAAGCGCCCGCGAAAGCTTACAACCCTTTATTTATCTATGGGGGCGTCGGCTTAGGGAAAACACACTTAATGCATGCGATCGGCCATTATGTAATAGATCATAATCCTTCTGCCAAAGTGGTTTATCTGTCTTCTGAGAAATTTACAAACGAATTCATCAACTCTATCCGAGATAATAAAGCCGTCGACTTCCGCAATCGCTATCGAAATGTTGATGTGCTTTTGATAGATGATATTCAATTTTTAGCGGGGAAAGAACAAACCCAGGAAGAATTTTTCCATACATTTAACACATTACACGAAGAAAGCAAACAAATCGTCATTTCAAGTGACCGGCCGCCAAAGGAAATTCCGACACTTGAAGACAGATTGCGCTCACGTTTTGAATGGGGACTTATTACAGATATCACACCGCCTGATCTAGAAACGAGAATTGCAATTTTAAGAAAAAAGGCCAAAGCAGAGGGCCTCGATATTCCGAACGAGGTTATGCTTTACATCGCGAATCAAATCGACAGCAATATTCGGGAACTCGAAGGAGCATTAATCAGAGTTGTCGCTTATTCATCTTTAATTAATAAAGATATTAATGCTGATCTGGCCGCTGAGGCGTTGAAAGATATTATTCCTTCCTCAAAACCGAAAGTCATTACGATAAAAGAAATTCAGAGGGTAGTAGGCCAGCAATTTAATATTAAACTCGAGGATTTCAAAGCAAAAAAACGGACAAAGTCAGTAGCTTTTCCGCGTCAAATCGCCATGTACTTATCAAGGGAAATGACTGATTCCTCTCTTCCTAAAATCGGTGAAGAGTTTGGAGGACGTGATCATACGACCGTTATTCATGCGCATGAAAAAATTTCAAAACTGCTGGCAGATGATGAACAGCTTCAGCAGCATGTAAAAGAAATTAAAGAACAGCTTAAATAG\n",
      "\n",
      "ATGGAAAATATATTAGACCTGTGGAACCAAGCCCTTGCTCAAATCGAAAAAAAGTTGAGCAAACCGAGTTTTGAGACTTGGATGAAGTCAACCAAAGCCCACTCACTGCAAGGCGATACATTAACAATCACGGCTCCCAATGAATTTGCCAGAGACTGGCTGGAGTCCAGATACTTGCATCTGATTGCAGATACTATATATGAATTAACCGGGGAAGAATTGAGCATTAAGTTTGTCATTCCTCAAAATCAAGATGTTGAGGACTTTATGCCGAAACCGCAAGTCAAAAAAGCGGTCAAAGAAGATACATCTGATTTTCCTCAAAATATGCTCAATCCAAAATATACTTTTGATACTTTTGTCATCGGATCTGGAAACCGATTTGCACATGCTGCTTCCCTCGCAGTAGCGGAAGCGCCCGCGAAAGCTTACAACCCTTTATTTATCTATGGGGGCGTCGGCTTAGGGAAAACACACTTAATGCATGCGATCGGCCATTATGTAATAGATCATAATCCTTCTGCCAAAGTGGTTTATCTGTCTTCTGAGAAATTTACAAACGAATTCATCAACTCTATCCGAGATAATAAAGCCGTCGACTTCCGCAATCGCTATCGAAATGTTGATGTGCTTTTGATAGATGATATTCAATTTTTAGCGGGGAAAGAACAAACCCAGGAAGAATTTTTCCATACATTTAACACATTACACGAAGAAAGCAAACAAATCGTCATTTCAAGTGACCGGCCGCCAAAGGAAATTCCGACACTTGAAGACAGATTGCGCTCACGTTTTGAATGGGGACTTATTACAGATATCACACCGCCTGATCTAGAAACGAGAATTGCAATTTTAAGAAAAAAGGCCAAAGCAGAGGGCCTCGATATTCCGAACGAGGTTATGCTTTACATCGCGAATCAAATCGACAGCAATATTCGGGAACTCGAAGGAGCATTAATCAGAGTTGTCGCTTATTCATCTTTAATTAATAAAGATATTAATGCTGATCTGGCCGCTGAGGCGTTGAAAGATATTATTCCTTCCTCAAAACCGAAAGTCATTACGATAAAAGAAATTCAGAGGGTAGTAGGCCAGCAATTTAATATTAAACTCGAGGATTTCAAAGCAAAAAAACGGACAAAGTCAGTAGCTTTTCCGCGTCAAATCGCCATGTACTTATCAAGGGAAATGACTGATTCCTCTCTTCCTAAAATCGGTGAAGAGTTTGGAGGACGTGATCATACGACCGTTATTCATGCGCATGAAAAAATTTCAAAACTGCTGGCAGATGATGAACAGCTTCAGCAGCATGTAAAAGAAATTAAAGAACAGCTTAAATAG\n",
      "True\n"
     ]
    }
   ],
   "source": [
    "# allgenes = (\n",
    "#     feature\n",
    "#     for feature in gb_record.features\n",
    "#     if feature.type == 'gene'\n",
    "# )\n",
    "\n",
    "# for gene in allgenes:\n",
    "#     gene_name = gene.qualifiers['gene'][0]\n",
    "#     start_pos = gene.location.nofuzzy_start\n",
    "# #     start_pos = gene.location.nofuzzy_start + 1 # if 1-based indexing required\n",
    "#     end_pos = gene.location.nofuzzy_end\n",
    "#     strand_sense = gene.strand\n",
    "    \n",
    "#     gene_seq = gene.extract(gb_record).seq\n",
    "#     gene_seq2 = gb_record.seq[start_pos:end_pos]\n",
    "#     print(gene_name, start_pos, end_pos, strand_sense)\n",
    "#     print(f'\\n{gene_seq}\\n\\n{gene_seq2}')\n",
    "#     print(gene_seq == gene_seq2)\n",
    "#     break"
   ]
  },
  {
   "cell_type": "markdown",
   "id": "b8c1d9ed",
   "metadata": {},
   "source": [
    "### Loading the csvs"
   ]
  },
  {
   "cell_type": "code",
   "execution_count": 314,
   "id": "d3e6b9a5",
   "metadata": {},
   "outputs": [
    {
     "name": "stdout",
     "output_type": "stream",
     "text": [
      "{1: -200, 2: -199, 3: -198, 4: -197, 5: -196, 6: -195, 7: -194, 8: -193, 9: -192, 10: -191, 11: -190, 12: -189, 13: -188, 14: -187, 15: -186, 16: -185, 17: -184, 18: -183, 19: -182, 20: -181, 21: -180, 22: -179, 23: -178, 24: -177, 25: -176, 26: -175, 27: -174, 28: -173, 29: -172, 30: -171, 31: -170, 32: -169, 33: -168, 34: -167, 35: -166, 36: -165, 37: -164, 38: -163, 39: -162, 40: -161, 41: -160, 42: -159, 43: -158, 44: -157, 45: -156, 46: -155, 47: -154, 48: -153, 49: -152, 50: -151, 51: -150, 52: -149, 53: -148, 54: -147, 55: -146, 56: -145, 57: -144, 58: -143, 59: -142, 60: -141, 61: -140, 62: -139, 63: -138, 64: -137, 65: -136, 66: -135, 67: -134, 68: -133, 69: -132, 70: -131, 71: -130, 72: -129, 73: -128, 74: -127, 75: -126, 76: -125, 77: -124, 78: -123, 79: -122, 80: -121, 81: -120, 82: -119, 83: -118, 84: -117, 85: -116, 86: -115, 87: -114, 88: -113, 89: -112, 90: -111, 91: -110, 92: -109, 93: -108, 94: -107, 95: -106, 96: -105, 97: -104, 98: -103, 99: -102, 100: -101, 101: -100, 102: -99, 103: -98, 104: -97, 105: -96, 106: -95, 107: -94, 108: -93, 109: -92, 110: -91, 111: -90, 112: -89, 113: -88, 114: -87, 115: -86, 116: -85, 117: -84, 118: -83, 119: -82, 120: -81, 121: -80, 122: -79, 123: -78, 124: -77, 125: -76, 126: -75, 127: -74, 128: -73, 129: -72, 130: -71, 131: -70, 132: -69, 133: -68, 134: -67, 135: -66, 136: -65, 137: -64, 138: -63, 139: -62, 140: -61, 141: -60, 142: -59, 143: -58, 144: -57, 145: -56, 146: -55, 147: -54, 148: -53, 149: -52, 150: -51, 151: -50, 152: -49, 153: -48, 154: -47, 155: -46, 156: -45, 157: -44, 158: -43, 159: -42, 160: -41, 161: -40, 162: -39, 163: -38, 164: -37, 165: -36, 166: -35, 167: -34, 168: -33, 169: -32, 170: -31, 171: -30, 172: -29, 173: -28, 174: -27, 175: -26, 176: -25, 177: -24, 178: -23, 179: -22, 180: -21, 181: -20, 182: -19, 183: -18, 184: -17, 185: -16, 186: -15, 187: -14, 188: -13, 189: -12, 190: -11, 191: -10, 192: -9, 193: -8, 194: -7, 195: -6, 196: -5, 197: -4, 198: -3, 199: -2, 200: -1}\n"
     ]
    }
   ],
   "source": [
    "mapping_dict = {}\n",
    "\n",
    "mapping_values_list = [i for i in range(-200, 0, 1)]\n",
    "mapping_keys_list = [i for i in range(1, 201, 1)]\n",
    "\n",
    "for i in range(len(mapping_keys_list)):\n",
    "    mapping_dict[mapping_keys_list[i]] = mapping_values_list[i]\n",
    "    \n",
    "print(mapping_dict)"
   ]
  },
  {
   "cell_type": "markdown",
   "id": "34e3b504",
   "metadata": {},
   "source": [
    "How to iterate rows of a dataframe: https://stackoverflow.com/questions/16476924/how-to-iterate-over-rows-in-a-dataframe-in-pandas"
   ]
  },
  {
   "cell_type": "code",
   "execution_count": 317,
   "id": "f6292f34",
   "metadata": {},
   "outputs": [],
   "source": [
    "def motif_analysis(df, file_name):\n",
    "    \"\"\"Input: dataframe loaded from csv file and its file name\n",
    "    Output: dataframes for upstream- and downstream- flank's motif analysis\n",
    "    \"\"\"\n",
    "#     pattern = re.compile(r'GAA[GA]')\n",
    "    upstream_dict = {}\n",
    "    downstream_dict = {}\n",
    "    for key in keys_list:\n",
    "        upstream_dict[key] = 0\n",
    "        downstream_dict[key] = 0\n",
    "\n",
    "    # make sure indexes pair with number of rows\n",
    "    df = df.reset_index()\n",
    "    for index, row in df.iterrows():\n",
    "        # pd.isnull statements were added to handle the cases with no flank regions\n",
    "        if not pd.isnull(row['upstream_flank_203']):\n",
    "            for m in re.finditer(pattern, row['upstream_flank_203']):\n",
    "                upstream_dict[m.start()+1] += 1\n",
    "        if not pd.isnull(row['downstream_flank_203']):\n",
    "            for m in re.finditer(pattern, row['downstream_flank_203']):\n",
    "                downstream_dict[m.start()+1] += 1\n",
    "#         if not pd.isnull(row['upstream_flank']):\n",
    "#             for m in re.finditer(pattern, row['upstream_flank']):\n",
    "#                 upstream_dict[m.start()+1] += 1\n",
    "#         if not pd.isnull(row['downstream_flank']):\n",
    "#             for m in re.finditer(pattern, row['downstream_flank']):\n",
    "#                 downstream_dict[m.start()+1] += 1\n",
    "    \n",
    "    mapped_upstream_dict = {}\n",
    "    for key in upstream_dict:\n",
    "        mapped_upstream_dict[mapping_dict[key]] = upstream_dict[key]    \n",
    "    \n",
    "    df_up = pd.DataFrame.from_dict(mapped_upstream_dict, orient='index')\n",
    "    df_down = pd.DataFrame.from_dict(downstream_dict, orient='index')\n",
    "    df_up.to_csv('./csv_files_for_motifs/upstream_'+file_name)\n",
    "    df_down.to_csv('./csv_files_for_motifs/downstream_'+file_name)\n",
    "    del df_up, df_down\n",
    "#         print(row['upstream_flank'], '\\n\\n' , row['downstream_flank'])\n"
   ]
  },
  {
   "cell_type": "code",
   "execution_count": 318,
   "id": "1b090fbe",
   "metadata": {},
   "outputs": [
    {
     "name": "stdout",
     "output_type": "stream",
     "text": [
      "bacillus_subtilis.csv\n",
      "4536\n",
      "streptococcus_pneumoniae.csv\n",
      "2157\n",
      "klebsiella_pneumoniae.csv\n",
      "5404\n"
     ]
    }
   ],
   "source": [
    "keys_list = [i for i in range(1, 201)]\n",
    "pattern = re.compile(r'GAA[GA]')\n",
    "\n",
    "# To do the flank calculations for all files\n",
    "directory = os.fsencode('./csv_files/')\n",
    "\n",
    "for file in os.listdir(directory):\n",
    "    filename = os.fsdecode(file)\n",
    "#     print(filename)\n",
    "    if filename.endswith('.csv'):\n",
    "        print(filename)\n",
    "        df_temp = pd.read_csv('./csv_files/'+filename)\n",
    "        print(len(df_temp.index))\n",
    "        motif_analysis(df_temp, filename)"
   ]
  },
  {
   "cell_type": "code",
   "execution_count": 294,
   "id": "d609dbab",
   "metadata": {},
   "outputs": [
    {
     "name": "stdout",
     "output_type": "stream",
     "text": [
      "{1: -200, 2: -199, 3: -198, 4: -197, 5: -196, 6: -195, 7: -194, 8: -193, 9: -192, 10: -191, 11: -190, 12: -189, 13: -188, 14: -187, 15: -186, 16: -185, 17: -184, 18: -183, 19: -182, 20: -181, 21: -180, 22: -179, 23: -178, 24: -177, 25: -176, 26: -175, 27: -174, 28: -173, 29: -172, 30: -171, 31: -170, 32: -169, 33: -168, 34: -167, 35: -166, 36: -165, 37: -164, 38: -163, 39: -162, 40: -161, 41: -160, 42: -159, 43: -158, 44: -157, 45: -156, 46: -155, 47: -154, 48: -153, 49: -152, 50: -151, 51: -150, 52: -149, 53: -148, 54: -147, 55: -146, 56: -145, 57: -144, 58: -143, 59: -142, 60: -141, 61: -140, 62: -139, 63: -138, 64: -137, 65: -136, 66: -135, 67: -134, 68: -133, 69: -132, 70: -131, 71: -130, 72: -129, 73: -128, 74: -127, 75: -126, 76: -125, 77: -124, 78: -123, 79: -122, 80: -121, 81: -120, 82: -119, 83: -118, 84: -117, 85: -116, 86: -115, 87: -114, 88: -113, 89: -112, 90: -111, 91: -110, 92: -109, 93: -108, 94: -107, 95: -106, 96: -105, 97: -104, 98: -103, 99: -102, 100: -101, 101: -100, 102: -99, 103: -98, 104: -97, 105: -96, 106: -95, 107: -94, 108: -93, 109: -92, 110: -91, 111: -90, 112: -89, 113: -88, 114: -87, 115: -86, 116: -85, 117: -84, 118: -83, 119: -82, 120: -81, 121: -80, 122: -79, 123: -78, 124: -77, 125: -76, 126: -75, 127: -74, 128: -73, 129: -72, 130: -71, 131: -70, 132: -69, 133: -68, 134: -67, 135: -66, 136: -65, 137: -64, 138: -63, 139: -62, 140: -61, 141: -60, 142: -59, 143: -58, 144: -57, 145: -56, 146: -55, 147: -54, 148: -53, 149: -52, 150: -51, 151: -50, 152: -49, 153: -48, 154: -47, 155: -46, 156: -45, 157: -44, 158: -43, 159: -42, 160: -41, 161: -40, 162: -39, 163: -38, 164: -37, 165: -36, 166: -35, 167: -34, 168: -33, 169: -32, 170: -31, 171: -30, 172: -29, 173: -28, 174: -27, 175: -26, 176: -25, 177: -24, 178: -23, 179: -22, 180: -21, 181: -20, 182: -19, 183: -18, 184: -17, 185: -16, 186: -15, 187: -14, 188: -13, 189: -12, 190: -11, 191: -10, 192: -9, 193: -8, 194: -7, 195: -6, 196: -5, 197: -4, 198: -3, 199: -2, 200: -1}\n"
     ]
    }
   ],
   "source": [
    "# mapped_upstream_dict = {}\n",
    "\n",
    "# for key in upstream_dict:\n",
    "#     mapped_upstream_dict[mapping_dict[key]] = upstream_dict[key]"
   ]
  },
  {
   "cell_type": "code",
   "execution_count": 256,
   "id": "3113d348",
   "metadata": {},
   "outputs": [],
   "source": [
    "# # df_list = [df_bac, df_strep, df_kleb]\n",
    "# df_list = [df_bac]\n",
    "# keys_list = [i for i in range(1, 201)]\n",
    "# pattern = re.compile(r'GAA[GA]')\n",
    "\n",
    "# for df in df_list:\n",
    "    \n",
    "#     upstream_dict = {}\n",
    "#     downstream_dict = {}\n",
    "#     for key in keys_list:\n",
    "#         upstream_dict[key] = 0\n",
    "#         downstream_dict[key] = 0\n",
    "\n",
    "#     df = df.reset_index()  # make sure indexes pair with number of rows\n",
    "#     for index, row in df.iterrows():\n",
    "#         for m in re.finditer(pattern, row['upstream_flank']):\n",
    "#             upstream_dict[m.start()+1] += 1\n",
    "#         for m in re.finditer(pattern, row['downstream_flank']):\n",
    "#             downstream_dict[m.start()+1] += 1\n",
    "        \n",
    "# #         break\n",
    "# #         print(row['upstream_flank'], '\\n\\n' , row['downstream_flank'])\n",
    "        "
   ]
  },
  {
   "cell_type": "code",
   "execution_count": 222,
   "id": "97cb08de",
   "metadata": {
    "scrolled": false
   },
   "outputs": [
    {
     "data": {
      "text/plain": [
       "'CAGGACCGGGGATCAATCGGGGAAAGTGTGAATAACTTTTCGGAAGTCATACACAGTCTGTCCACATGTGGATAGGCTGTGTTTCCTGTCTTTTTCACAACTTATCCACAAATCCACAGGCCCTACTATTACTTCTACTATTTTTTATAAATATATATATTAATACATTATCCGTTAGGAGGATAAAAATGAAATTCACG'"
      ]
     },
     "execution_count": 222,
     "metadata": {},
     "output_type": "execute_result"
    }
   ],
   "source": [
    "# df_bac.iloc[0]['downstream_flank']"
   ]
  },
  {
   "cell_type": "code",
   "execution_count": 210,
   "id": "adf5b34d",
   "metadata": {},
   "outputs": [
    {
     "data": {
      "text/plain": [
       "0       [GAAG, GAAA, GAAA, GAAA, GAAA, GAAG]\n",
       "1                               [GAAA, GAAG]\n",
       "2                               [GAAA, GAAA]\n",
       "3                   [GAAG, GAAG, GAAA, GAAG]\n",
       "4                         [GAAA, GAAG, GAAG]\n",
       "                        ...                 \n",
       "4531                      [GAAG, GAAA, GAAG]\n",
       "4532                            [GAAA, GAAA]\n",
       "4533                [GAAA, GAAA, GAAA, GAAA]\n",
       "4534                            [GAAA, GAAA]\n",
       "4535                [GAAA, GAAA, GAAA, GAAG]\n",
       "Name: upstream_flank, Length: 4536, dtype: object"
      ]
     },
     "execution_count": 210,
     "metadata": {},
     "output_type": "execute_result"
    }
   ],
   "source": [
    "# df_bac['upstream_flank'].str.findall('GAA[GA]')"
   ]
  },
  {
   "cell_type": "code",
   "execution_count": 214,
   "id": "037f8f0e",
   "metadata": {},
   "outputs": [
    {
     "data": {
      "text/plain": [
       "16361"
      ]
     },
     "execution_count": 214,
     "metadata": {},
     "output_type": "execute_result"
    }
   ],
   "source": [
    "# df_bac['upstream_flank'].str.count('GAA[GA]').sum()"
   ]
  },
  {
   "cell_type": "code",
   "execution_count": 241,
   "id": "425c8635",
   "metadata": {},
   "outputs": [
    {
     "data": {
      "text/plain": [
       "0       3\n",
       "1       1\n",
       "2       4\n",
       "3       4\n",
       "4       5\n",
       "       ..\n",
       "4531    1\n",
       "4532    4\n",
       "4533    8\n",
       "4534    4\n",
       "4535    5\n",
       "Name: downstream_flank, Length: 4536, dtype: int64"
      ]
     },
     "execution_count": 241,
     "metadata": {},
     "output_type": "execute_result"
    }
   ],
   "source": [
    "# df_bac['downstream_flank'].str.count('GAA[GA]')"
   ]
  },
  {
   "cell_type": "code",
   "execution_count": 301,
   "id": "9c7f6fdd",
   "metadata": {},
   "outputs": [
    {
     "data": {
      "text/plain": [
       "gene_ID                                                      11849782\n",
       "gene_name                                                 unavailable\n",
       "start_position                                                    381\n",
       "end_position                                                      822\n",
       "strand_sense                                                       -1\n",
       "gene_seq            ATGGCAGACATTACACTTATCAGCGGCAGCACCCTGGGCAGTGCGG...\n",
       "upstream_flank      AGCAGGTACTTATCAACAAGATCCAAACAATCGATGAAATTCAGTC...\n",
       "downstream_flank    GAATTGTAAAGATCGTCCGATCTTCTGTGGATAACCATGCTTAAAA...\n",
       "Name: 0, dtype: object"
      ]
     },
     "execution_count": 301,
     "metadata": {},
     "output_type": "execute_result"
    }
   ],
   "source": [
    "df_kleb.iloc[0]"
   ]
  },
  {
   "cell_type": "code",
   "execution_count": 302,
   "id": "f53d32be",
   "metadata": {},
   "outputs": [
    {
     "data": {
      "text/plain": [
       "'AGCAGGTACTTATCAACAAGATCCAAACAATCGATGAAATTCAGTCCACTGAAACTCTGATCGTGCTGCAGAACCCGATCATGCGCACCATCAAGCCCTGATCGCTTTTTTTAATCCCACATTTTTCCACAGGTAGATCCCAGCTCGCTCACAGCGTACAATACGCCACTCTGAACAGTTGAGCGGGCGATCGGCGATCT'"
      ]
     },
     "execution_count": 302,
     "metadata": {},
     "output_type": "execute_result"
    }
   ],
   "source": [
    "df_kleb.iloc[0]['upstream_flank']"
   ]
  }
 ],
 "metadata": {
  "hide_input": false,
  "kernelspec": {
   "display_name": "Python 3 (ipykernel)",
   "language": "python",
   "name": "python3"
  },
  "language_info": {
   "codemirror_mode": {
    "name": "ipython",
    "version": 3
   },
   "file_extension": ".py",
   "mimetype": "text/x-python",
   "name": "python",
   "nbconvert_exporter": "python",
   "pygments_lexer": "ipython3",
   "version": "3.8.12"
  },
  "toc": {
   "base_numbering": 1,
   "nav_menu": {},
   "number_sections": true,
   "sideBar": true,
   "skip_h1_title": false,
   "title_cell": "Table of Contents",
   "title_sidebar": "Contents",
   "toc_cell": false,
   "toc_position": {},
   "toc_section_display": true,
   "toc_window_display": false
  },
  "varInspector": {
   "cols": {
    "lenName": 16,
    "lenType": 16,
    "lenVar": 40
   },
   "kernels_config": {
    "python": {
     "delete_cmd_postfix": "",
     "delete_cmd_prefix": "del ",
     "library": "var_list.py",
     "varRefreshCmd": "print(var_dic_list())"
    },
    "r": {
     "delete_cmd_postfix": ") ",
     "delete_cmd_prefix": "rm(",
     "library": "var_list.r",
     "varRefreshCmd": "cat(var_dic_list()) "
    }
   },
   "types_to_exclude": [
    "module",
    "function",
    "builtin_function_or_method",
    "instance",
    "_Feature"
   ],
   "window_display": false
  }
 },
 "nbformat": 4,
 "nbformat_minor": 5
}
